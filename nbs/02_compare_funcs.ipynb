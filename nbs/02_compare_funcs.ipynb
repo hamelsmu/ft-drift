{
 "cells": [
  {
   "cell_type": "markdown",
   "id": "397cf2af-f269-4133-b2ad-57b864c86b12",
   "metadata": {},
   "source": [
    "# compare_funcs\n",
    "> Compute the diff between two function definitions"
   ]
  },
  {
   "cell_type": "code",
   "execution_count": null,
   "id": "d3b1e5c0-7cec-4634-9034-e2091516a72c",
   "metadata": {},
   "outputs": [],
   "source": [
    "#|default_exp compare_funcs"
   ]
  },
  {
   "cell_type": "code",
   "execution_count": null,
   "id": "dc4f5da3-4bf2-48fd-b68c-b13c105685ec",
   "metadata": {},
   "outputs": [],
   "source": [
    "#|export\n",
    "import re\n",
    "from typing import List\n",
    "from ft_drift.parse import ChatData"
   ]
  },
  {
   "cell_type": "code",
   "execution_count": null,
   "id": "e05cbc38-6c96-4c6a-8748-d2f0f676357e",
   "metadata": {},
   "outputs": [
    {
     "name": "stdout",
     "output_type": "stream",
     "text": [
      "Loaded 2284 rows from file_a.jsonl\n",
      "Loaded 2284 rows from file_b.jsonl\n"
     ]
    }
   ],
   "source": [
    "_a_data = ChatData.load_jsonl('file_a.jsonl') \n",
    "_b_data = ChatData.load_jsonl('file_b.jsonl')"
   ]
  },
  {
   "cell_type": "markdown",
   "id": "58e2d8ee-b149-4e31-ad3f-1529340d60d4",
   "metadata": {},
   "source": [
    "### Diff Functions\n",
    "\n",
    "Some of this code is domain-specific to [Rechat](https://rechat.com/)."
   ]
  },
  {
   "cell_type": "code",
   "execution_count": null,
   "id": "4f213517-2a88-4995-8bf4-dd0cdc1905e5",
   "metadata": {},
   "outputs": [],
   "source": [
    "#|export\n",
    "def _clean_string(s):\n",
    "    patterns = [r\"current date is: .*?\\)\", r\"Instead of \\[Your Name\\] use [A-Za-z\\s\\-']+(?:\\.\\s*)?\"]\n",
    "    for pattern in patterns:\n",
    "        s = re.sub(pattern, '', s)\n",
    "    return s.strip()\n",
    "\n",
    "def _deep_diff(d1, d2, path=\"\"):\n",
    "    differences = []\n",
    "    \n",
    "    if not (isinstance(d1, (dict, list)) and isinstance(d2, (dict, list))):\n",
    "        val1, val2 = (_clean_string(val) if isinstance(val, str) else val for val in (d1, d2))\n",
    "        if val1 != val2:\n",
    "            differences.append(f\"{path} - {val1} != {val2}\")\n",
    "        return differences\n",
    "    \n",
    "    if isinstance(d1, dict) and isinstance(d2, dict):\n",
    "        for key in set(d1).union(d2):\n",
    "            new_path = f\"{path}/{key}\" if path else key\n",
    "            if key in d1 and key in d2:\n",
    "                differences.extend(_deep_diff(d1[key], d2[key], new_path))\n",
    "            else:\n",
    "                if key not in d1:\n",
    "                    differences.append(f\"{new_path} - Key missing in first\")\n",
    "                if key not in d2:\n",
    "                    differences.append(f\"{new_path} - Key missing in second\")\n",
    "    elif isinstance(d1, list) and isinstance(d2, list):\n",
    "        if len(d1) != len(d2):\n",
    "            differences.append(f\"{path} - List sizes differ\")\n",
    "        else:\n",
    "            for i, (item1, item2) in enumerate(zip(d1, d2)):\n",
    "                differences.extend(_deep_diff(item1, item2, f\"{path}[{i}]\"))\n",
    "    \n",
    "    return differences\n",
    "\n",
    "\n",
    "def diff_funcs(list1:List[dict], list2:List[dict]):\n",
    "    \"Compare two lists of functions.\"\n",
    "    differences = []\n",
    "    for item1, item2 in ((item1, next((item for item in list2 if item['name'] == item1['name']), None)) for item1 in list1):\n",
    "        if item2:\n",
    "            diff = _deep_diff(item1, item2)\n",
    "            if diff:\n",
    "                differences.append((item1['name'], diff))\n",
    "        else:\n",
    "            differences.append((item1['name'], None))\n",
    "    for item2 in (item2 for item2 in list2 if not any(item1['name'] == item2['name'] for item1 in list1)):\n",
    "        differences.append((None, item2['name']))\n",
    "    \n",
    "    msg = \"No differences found.\" if not differences else \"The following differences were found:\\n\" + \\\n",
    "          \"\\n\".join(f\"- Function {name or 'Unnamed'} differences:\\n\" + \"\\n\".join(f\"  {d}\" for d in diff) if diff else f\"- Function {name} is missing in one of the files\" for name, diff in differences)\n",
    "    \n",
    "    return {'diff': bool(differences), 'msg': msg}"
   ]
  },
  {
   "cell_type": "code",
   "execution_count": null,
   "id": "c5315b48-e718-49b9-aaa4-f45a8d9673b4",
   "metadata": {},
   "outputs": [],
   "source": [
    "_diff = diff_funcs(_a_data.funcs, _b_data.funcs)\n",
    "assert _diff['msg'] == 'No differences found.'"
   ]
  },
  {
   "cell_type": "code",
   "execution_count": null,
   "id": "a5fd0d84-5716-437e-85b4-74ed9e4b5699",
   "metadata": {},
   "outputs": [],
   "source": [
    "#|export\n",
    "def explain_func_diff(differences_output):\n",
    "    \"Use a LLM to provide a human-readable explanation of differences in function definitions.\"\n",
    "    if not differences_output['diff']:\n",
    "        return 'The comparison of the function definitions did not identify any differences.'\n",
    "\n",
    "    else:\n",
    "        client = OpenAI(api_key=os.environ.get(\"OPENAI_API_KEY\"))\n",
    "        context = \"Given the following output from a program that compares two lists of dictionaries\\\n",
    "    representing function definitions, explain the differences identified. The function looks for matches based\\\n",
    "    on the 'name' field, compares other fields for differences, and generates a message based on the differences found.\\\n",
    "    There is no need to mention that this analysis is based on the output of a program.  Focus on giving the user actionable information.\"\n",
    "        \n",
    "        prompt = context + \"\\\n",
    "    \\\n",
    "    Output of 'highlight_differences':\\\n",
    "    \" + differences_output['msg']\n",
    "        \n",
    "        response = client.chat.completions.create(\n",
    "            model=\"gpt-3.5-turbo\",\n",
    "            messages=[\n",
    "                {\"role\": \"system\", \"content\": \"You are a helpful assistant.\"},\n",
    "                {\"role\": \"user\", \"content\": prompt}\n",
    "            ]\n",
    "        )\n",
    "        # Extracting and returning the text from the response\n",
    "        return response.choices[0].message.content"
   ]
  },
  {
   "cell_type": "code",
   "execution_count": null,
   "id": "5832f290-ed56-41dc-a56f-ef665b4af94b",
   "metadata": {},
   "outputs": [
    {
     "name": "stdout",
     "output_type": "stream",
     "text": [
      "The comparison of the function definitions did not identify any differences.\n"
     ]
    }
   ],
   "source": [
    "res = explain_func_diff(_diff)\n",
    "print(res)"
   ]
  },
  {
   "cell_type": "code",
   "execution_count": null,
   "id": "d80c37a0-dadb-4927-9374-1398e715c6ff",
   "metadata": {},
   "outputs": [],
   "source": []
  }
 ],
 "metadata": {
  "kernelspec": {
   "display_name": "python3",
   "language": "python",
   "name": "python3"
  }
 },
 "nbformat": 4,
 "nbformat_minor": 5
}
