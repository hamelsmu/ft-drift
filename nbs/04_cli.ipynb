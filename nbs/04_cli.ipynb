{
 "cells": [
  {
   "cell_type": "markdown",
   "id": "8704db07-f80a-4e02-b988-d42a6b316cdf",
   "metadata": {},
   "source": [
    "# cli\n",
    "> A cli user-interface to `ft_drift`"
   ]
  },
  {
   "cell_type": "code",
   "execution_count": null,
   "id": "75d4e8bd-3f8b-43d2-aec2-6f8fe6e75aa5",
   "metadata": {},
   "outputs": [],
   "source": [
    "#|default_exp cli"
   ]
  },
  {
   "cell_type": "code",
   "execution_count": null,
   "id": "75266407-c274-40da-bec1-e3609a529d4b",
   "metadata": {},
   "outputs": [],
   "source": [
    "#|export\n",
    "import time\n",
    "from fastcore.script import call_parse\n",
    "from ft_drift.model import prep_data, model\n",
    "from rich.progress import Progress\n",
    "from rich import print as rprint\n",
    "from rich.console import Console\n",
    "from rich.table import Table\n",
    "from rich.bar import Bar"
   ]
  },
  {
   "cell_type": "code",
   "execution_count": null,
   "id": "179ddd4b-a445-401e-b4b9-a4114db13916",
   "metadata": {},
   "outputs": [],
   "source": [
    "#|export\n",
    "def rich_feat_imp(df):\n",
    "    \"Render a feature importance dataframe ad a rich table.\"\n",
    "    max_value = max(df.Importance.values)\n",
    "\n",
    "    # Create a Rich Table\n",
    "    table = Table(header_style=\"bold\")\n",
    "    table.add_column(\"n\", justify=\"left\")\n",
    "    table.add_column(\"Feature\", justify=\"left\")\n",
    "    table.add_column(\"Importance\", justify=\"left\")\n",
    "\n",
    "    # Populate the table\n",
    "    for idx, d in df.iterrows():\n",
    "        bar = Bar(size=max_value, begin=0, end=d.Importance, color=\"dark_magenta\")\n",
    "        table.add_row(str(idx+1), d.Feature, bar)\n",
    "\n",
    "    rprint(table)"
   ]
  },
  {
   "cell_type": "code",
   "execution_count": null,
   "id": "d1cbb7b2-18de-4afb-8246-f470b5e15e57",
   "metadata": {},
   "outputs": [],
   "source": [
    "#|export\n",
    "@call_parse\n",
    "def main(f1:str, #jsonl file #1\n",
    "         f2:str, #jsonl file #2\n",
    "        ):\n",
    "    \"Compare two openai jsonl files.\"\n",
    "    with Progress(transient=True) as progress:\n",
    "        t = progress.add_task(\"[red]Processing\", total=5)\n",
    "        progress.console.print(\"[bold]Parsing Data[/bold]\")\n",
    "        df = prep_data(f1,f2)\n",
    "        progress.update(t, advance=2)\n",
    "        progress.console.print(\"[bold]Detecting Drift[/bold]\")\n",
    "        clf = model(df)\n",
    "        progress.update(t, advance=2)\n",
    "        if clf.roc_auc > 0.60:\n",
    "            rprint(':x: Drift detected ... showing 15 most predictive tokens:')\n",
    "            rich_feat_imp(clf.top_features.head(15))\n",
    "        else:\n",
    "            rprint(':white_check_mark: No significant drift detected')\n",
    "        progress.update(t, advance=1)\n",
    "        time.sleep(0.2)"
   ]
  },
  {
   "cell_type": "code",
   "execution_count": null,
   "id": "eb9bb734-d9ed-4e92-8c38-718e3c99f4ab",
   "metadata": {},
   "outputs": [
    {
     "data": {
      "application/vnd.jupyter.widget-view+json": {
       "model_id": "",
       "version_major": 2,
       "version_minor": 0
      },
      "text/plain": [
       "Output()"
      ]
     },
     "metadata": {},
     "output_type": "display_data"
    },
    {
     "data": {
      "text/html": [
       "<pre style=\"white-space:pre;overflow-x:auto;line-height:normal;font-family:Menlo,'DejaVu Sans Mono',consolas,'Courier New',monospace\"><span style=\"font-weight: bold\">Parsing Data</span>\n",
       "</pre>\n"
      ],
      "text/plain": [
       "\u001b[1mParsing Data\u001b[0m\n"
      ]
     },
     "metadata": {},
     "output_type": "display_data"
    },
    {
     "data": {
      "text/html": [
       "<pre style=\"white-space:pre;overflow-x:auto;line-height:normal;font-family:Menlo,'DejaVu Sans Mono',consolas,'Courier New',monospace\">Loaded 2284 rows from file_a.jsonl\n",
       "</pre>\n"
      ],
      "text/plain": [
       "Loaded 2284 rows from file_a.jsonl\n"
      ]
     },
     "metadata": {},
     "output_type": "display_data"
    },
    {
     "data": {
      "text/html": [
       "<pre style=\"white-space:pre;overflow-x:auto;line-height:normal;font-family:Menlo,'DejaVu Sans Mono',consolas,'Courier New',monospace\">Loaded 2284 rows from file_b.jsonl\n",
       "</pre>\n"
      ],
      "text/plain": [
       "Loaded 2284 rows from file_b.jsonl\n"
      ]
     },
     "metadata": {},
     "output_type": "display_data"
    },
    {
     "data": {
      "text/html": [
       "<pre style=\"white-space:pre;overflow-x:auto;line-height:normal;font-family:Menlo,'DejaVu Sans Mono',consolas,'Courier New',monospace\"><span style=\"font-weight: bold\">Detecting Drift</span>\n",
       "</pre>\n"
      ],
      "text/plain": [
       "\u001b[1mDetecting Drift\u001b[0m\n"
      ]
     },
     "metadata": {},
     "output_type": "display_data"
    },
    {
     "data": {
      "text/html": [
       "<pre style=\"white-space:pre;overflow-x:auto;line-height:normal;font-family:Menlo,'DejaVu Sans Mono',consolas,'Courier New',monospace\">❌ Drift detected <span style=\"color: #808000; text-decoration-color: #808000\">...</span> showing <span style=\"color: #008080; text-decoration-color: #008080; font-weight: bold\">15</span> most predictive tokens:\n",
       "</pre>\n"
      ],
      "text/plain": [
       "❌ Drift detected \u001b[33m...\u001b[0m showing \u001b[1;36m15\u001b[0m most predictive tokens:\n"
      ]
     },
     "metadata": {},
     "output_type": "display_data"
    },
    {
     "data": {
      "text/html": [
       "<pre style=\"white-space:pre;overflow-x:auto;line-height:normal;font-family:Menlo,'DejaVu Sans Mono',consolas,'Courier New',monospace\">┏━━━━┳━━━━━━━━━━━━━━━━━━━━━━━━━━━━━━━━━━━━┳━━━━━━━━━━━━━━━━━━━━━━━━━━━━━━━━━━━━━━━━━━━━━━━━━━━━━━━━━━━━━━━━━━━━━━━┓\n",
       "┃<span style=\"font-weight: bold\"> n  </span>┃<span style=\"font-weight: bold\"> Feature                            </span>┃<span style=\"font-weight: bold\"> Importance                                                            </span>┃\n",
       "┡━━━━╇━━━━━━━━━━━━━━━━━━━━━━━━━━━━━━━━━━━━╇━━━━━━━━━━━━━━━━━━━━━━━━━━━━━━━━━━━━━━━━━━━━━━━━━━━━━━━━━━━━━━━━━━━━━━━┩\n",
       "│ 1  │ &lt;|END-UI-FORMAT|&gt; Role             │ <span style=\"color: #8700af; text-decoration-color: #8700af; background-color: #ffffff\">█████████████████████████████████████████████████████████████████████</span> │\n",
       "│ 2  │ &lt;|UI-FORMAT|&gt; id                   │ <span style=\"color: #8700af; text-decoration-color: #8700af; background-color: #ffffff\">█████████████████████████████████████████████████                    </span> │\n",
       "│ 3  │ Role function &lt;|JSON-FORMAT|&gt;      │ <span style=\"color: #8700af; text-decoration-color: #8700af; background-color: #ffffff\">████████████████████████████████████████████████▉                    </span> │\n",
       "│ 4  │ &lt;|END-UI-FORMAT|&gt; Role assistant   │ <span style=\"color: #8700af; text-decoration-color: #8700af; background-color: #ffffff\">████████████████████████████████████████████████▌                    </span> │\n",
       "│ 5  │ &lt;|UI-FORMAT|&gt;                      │ <span style=\"color: #8700af; text-decoration-color: #8700af; background-color: #ffffff\">████████████████████████████████████████████████                     </span> │\n",
       "│ 6  │ &lt;|END-JSON-FORMAT|&gt; Role assistant │ <span style=\"color: #8700af; text-decoration-color: #8700af; background-color: #ffffff\">██████████████████████████████████████████████▉                      </span> │\n",
       "│ 7  │ &lt;|END-JSON-FORMAT|&gt; Role           │ <span style=\"color: #8700af; text-decoration-color: #8700af; background-color: #ffffff\">█████████████████████████████████████████████▏                       </span> │\n",
       "│ 8  │ &lt;|JSON-FORMAT|&gt;                    │ <span style=\"color: #8700af; text-decoration-color: #8700af; background-color: #ffffff\">████████████████████████████████████████████▌                        </span> │\n",
       "│ 9  │ ```json id                         │ <span style=\"color: #8700af; text-decoration-color: #8700af; background-color: #ffffff\">████████████████████████████████████████▋                            </span> │\n",
       "│ 10 │ assistant ```json                  │ <span style=\"color: #8700af; text-decoration-color: #8700af; background-color: #ffffff\">█████████████████████████████████████▊                               </span> │\n",
       "│ 11 │ function &lt;|UI-FORMAT|&gt;             │ <span style=\"color: #8700af; text-decoration-color: #8700af; background-color: #ffffff\">███████████████████████████████████▌                                 </span> │\n",
       "│ 12 │ function &lt;|JSON-FORMAT|&gt; id        │ <span style=\"color: #8700af; text-decoration-color: #8700af; background-color: #ffffff\">███████████████████████████                                          </span> │\n",
       "│ 13 │ &lt;|JSON-FORMAT|&gt; id                 │ <span style=\"color: #8700af; text-decoration-color: #8700af; background-color: #ffffff\">███████████████████████████                                          </span> │\n",
       "│ 14 │ &lt;|END-JSON-FORMAT|&gt;                │ <span style=\"color: #8700af; text-decoration-color: #8700af; background-color: #ffffff\">██████████████████████████▍                                          </span> │\n",
       "│ 15 │ &lt;|END-UI-FORMAT|&gt;                  │ <span style=\"color: #8700af; text-decoration-color: #8700af; background-color: #ffffff\">█████████████████████████▌                                           </span> │\n",
       "└────┴────────────────────────────────────┴───────────────────────────────────────────────────────────────────────┘\n",
       "</pre>\n"
      ],
      "text/plain": [
       "┏━━━━┳━━━━━━━━━━━━━━━━━━━━━━━━━━━━━━━━━━━━┳━━━━━━━━━━━━━━━━━━━━━━━━━━━━━━━━━━━━━━━━━━━━━━━━━━━━━━━━━━━━━━━━━━━━━━━┓\n",
       "┃\u001b[1m \u001b[0m\u001b[1mn \u001b[0m\u001b[1m \u001b[0m┃\u001b[1m \u001b[0m\u001b[1mFeature                           \u001b[0m\u001b[1m \u001b[0m┃\u001b[1m \u001b[0m\u001b[1mImportance                                                           \u001b[0m\u001b[1m \u001b[0m┃\n",
       "┡━━━━╇━━━━━━━━━━━━━━━━━━━━━━━━━━━━━━━━━━━━╇━━━━━━━━━━━━━━━━━━━━━━━━━━━━━━━━━━━━━━━━━━━━━━━━━━━━━━━━━━━━━━━━━━━━━━━┩\n",
       "│ 1  │ <|END-UI-FORMAT|> Role             │ \u001b[38;5;91;49m█████████████████████████████████████████████████████████████████████\u001b[0m │\n",
       "│ 2  │ <|UI-FORMAT|> id                   │ \u001b[38;5;91;49m█████████████████████████████████████████████████                    \u001b[0m │\n",
       "│ 3  │ Role function <|JSON-FORMAT|>      │ \u001b[38;5;91;49m████████████████████████████████████████████████▉                    \u001b[0m │\n",
       "│ 4  │ <|END-UI-FORMAT|> Role assistant   │ \u001b[38;5;91;49m████████████████████████████████████████████████▌                    \u001b[0m │\n",
       "│ 5  │ <|UI-FORMAT|>                      │ \u001b[38;5;91;49m████████████████████████████████████████████████                     \u001b[0m │\n",
       "│ 6  │ <|END-JSON-FORMAT|> Role assistant │ \u001b[38;5;91;49m██████████████████████████████████████████████▉                      \u001b[0m │\n",
       "│ 7  │ <|END-JSON-FORMAT|> Role           │ \u001b[38;5;91;49m█████████████████████████████████████████████▏                       \u001b[0m │\n",
       "│ 8  │ <|JSON-FORMAT|>                    │ \u001b[38;5;91;49m████████████████████████████████████████████▌                        \u001b[0m │\n",
       "│ 9  │ ```json id                         │ \u001b[38;5;91;49m████████████████████████████████████████▋                            \u001b[0m │\n",
       "│ 10 │ assistant ```json                  │ \u001b[38;5;91;49m█████████████████████████████████████▊                               \u001b[0m │\n",
       "│ 11 │ function <|UI-FORMAT|>             │ \u001b[38;5;91;49m███████████████████████████████████▌                                 \u001b[0m │\n",
       "│ 12 │ function <|JSON-FORMAT|> id        │ \u001b[38;5;91;49m███████████████████████████                                          \u001b[0m │\n",
       "│ 13 │ <|JSON-FORMAT|> id                 │ \u001b[38;5;91;49m███████████████████████████                                          \u001b[0m │\n",
       "│ 14 │ <|END-JSON-FORMAT|>                │ \u001b[38;5;91;49m██████████████████████████▍                                          \u001b[0m │\n",
       "│ 15 │ <|END-UI-FORMAT|>                  │ \u001b[38;5;91;49m█████████████████████████▌                                           \u001b[0m │\n",
       "└────┴────────────────────────────────────┴───────────────────────────────────────────────────────────────────────┘\n"
      ]
     },
     "metadata": {},
     "output_type": "display_data"
    },
    {
     "data": {
      "text/html": [
       "<pre style=\"white-space:pre;overflow-x:auto;line-height:normal;font-family:Menlo,'DejaVu Sans Mono',consolas,'Courier New',monospace\"></pre>\n"
      ],
      "text/plain": []
     },
     "metadata": {},
     "output_type": "display_data"
    },
    {
     "data": {
      "text/html": [
       "<pre style=\"white-space:pre;overflow-x:auto;line-height:normal;font-family:Menlo,'DejaVu Sans Mono',consolas,'Courier New',monospace\">\n",
       "</pre>\n"
      ],
      "text/plain": [
       "\n"
      ]
     },
     "metadata": {},
     "output_type": "display_data"
    }
   ],
   "source": [
    "#|hide\n",
    "m = main('file_a.jsonl', 'file_b.jsonl')"
   ]
  },
  {
   "cell_type": "code",
   "execution_count": null,
   "id": "f307db03-a354-4896-bb35-ec9d36afa641",
   "metadata": {},
   "outputs": [],
   "source": []
  },
  {
   "cell_type": "code",
   "execution_count": null,
   "id": "39f5ce74-f8a2-4791-9201-3de8853719a1",
   "metadata": {},
   "outputs": [],
   "source": []
  }
 ],
 "metadata": {
  "kernelspec": {
   "display_name": "python3",
   "language": "python",
   "name": "python3"
  }
 },
 "nbformat": 4,
 "nbformat_minor": 5
}
