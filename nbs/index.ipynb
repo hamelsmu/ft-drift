{
 "cells": [
  {
   "cell_type": "markdown",
   "metadata": {},
   "source": [
    "# ft-drift\n",
    "> Check for data drift by comparing two OpenAI chat jsonl files"
   ]
  },
  {
   "cell_type": "markdown",
   "metadata": {},
   "source": [
    "`ft-drift` helps you check for data drift by comparing two OpenAI [multi-turn chat jsonl files](https://platform.openai.com/docs/guides/fine-tuning/preparing-your-dataset)."
   ]
  },
  {
   "cell_type": "markdown",
   "metadata": {},
   "source": [
    "## Install"
   ]
  },
  {
   "cell_type": "markdown",
   "metadata": {},
   "source": [
    "```sh\n",
    "pip install ft_drift\n",
    "```"
   ]
  },
  {
   "cell_type": "markdown",
   "metadata": {},
   "source": [
    "## Background\n",
    "\n",
    "Checking for dataset drift can help you debug if:\n",
    "\n",
    "1. Your model is trained on data that doesn't reflect production (different prompts, functions, etc).\n",
    "2. Your training data contains unexpected or accidental artifacts.\n",
    "\n",
    "In either situation, you can compare data from relevant sources (i.e. production vs fine-tuning) to find unwanted changes.  This is one of the most common source of errors when fine-tuning models!\n",
    "\n",
    "The demo below shows a cli tool used to detect data drift between two files, `file_a.jsonl` and `file_b.jsonl`.  Afterwards, a table of important tokens that account for the drift are shown, such as:\n",
    "\n",
    "- `END-UI-FORMAT`\n",
    "- `UI-FORMAT`\n",
    "- \"```json\"\n",
    "- etc.\n",
    "\n",
    "## Usage\n",
    "\n",
    "After installing `ft_drift`, the cli command `detect_drift` will be available to you."
   ]
  },
  {
   "cell_type": "markdown",
   "metadata": {},
   "source": [
    "![](drift_cli.gif)"
   ]
  },
  {
   "cell_type": "code",
   "execution_count": null,
   "metadata": {},
   "outputs": [],
   "source": []
  }
 ],
 "metadata": {
  "kernelspec": {
   "display_name": "python3",
   "language": "python",
   "name": "python3"
  }
 },
 "nbformat": 4,
 "nbformat_minor": 4
}
