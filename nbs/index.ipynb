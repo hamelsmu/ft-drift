{
 "cells": [
  {
   "cell_type": "markdown",
   "metadata": {},
   "source": [
    "# ft-drift\n",
    "> Check for data drift by comparing two OpenAI chat jsonl files"
   ]
  },
  {
   "cell_type": "markdown",
   "metadata": {},
   "source": [
    "`ft-drift` helps you check for data drift by comparing two OpenAI [multi-turn chat jsonl files](https://platform.openai.com/docs/guides/fine-tuning/preparing-your-dataset)."
   ]
  },
  {
   "cell_type": "markdown",
   "metadata": {},
   "source": [
    "## Install"
   ]
  },
  {
   "cell_type": "markdown",
   "metadata": {},
   "source": [
    "```sh\n",
    "pip install ft_drift\n",
    "```"
   ]
  },
  {
   "cell_type": "markdown",
   "metadata": {},
   "source": [
    "## How to use\n",
    "\n",
    "Common situations where you want to check for dataset drift:\n",
    "\n",
    "1. You fine-tuned a new model but it doesn't work the way you expect compared to a previous model trained on different data.\n",
    "2. Your model is trained on data that doesn't reflect production.\n",
    "\n",
    "In either situation, you can collect your data from the relevant sources and compare them to see if the data has changed in ways that are undesirable.\n",
    "\n",
    "In the demo below, we detect data drift between two datasets where the following tokens were found to be different:\n",
    "\n",
    "- `END-UI-FORMAT`\n",
    "- `UI-FORMAT`\n",
    "- \"```json\"\n",
    "- etc.\n",
    "\n",
    "After installing `ft_drift`, the cli command `detect_drift` will be available to you."
   ]
  },
  {
   "cell_type": "markdown",
   "metadata": {},
   "source": [
    "![](first.gif)"
   ]
  },
  {
   "cell_type": "code",
   "execution_count": null,
   "metadata": {},
   "outputs": [],
   "source": []
  }
 ],
 "metadata": {
  "kernelspec": {
   "display_name": "python3",
   "language": "python",
   "name": "python3"
  }
 },
 "nbformat": 4,
 "nbformat_minor": 4
}
