{
 "cells": [
  {
   "cell_type": "markdown",
   "id": "053e2e66-31f0-4a49-a677-73a7f616467e",
   "metadata": {},
   "source": [
    "# parse\n",
    "> parse and pre-process openai traces"
   ]
  },
  {
   "cell_type": "code",
   "execution_count": null,
   "id": "a271d23d-76e5-4e75-96cd-4bc9f323fa76",
   "metadata": {},
   "outputs": [],
   "source": [
    "#|default_exp parse"
   ]
  },
  {
   "cell_type": "code",
   "execution_count": null,
   "id": "ff831cbd-9b1b-497f-8066-37b26cbf6ec2",
   "metadata": {},
   "outputs": [],
   "source": [
    "#|export\n",
    "import json, os\n",
    "from openai import OpenAI"
   ]
  },
  {
   "cell_type": "markdown",
   "id": "d15bded2-c489-49fc-88c5-63216e8d31f5",
   "metadata": {},
   "source": [
    "## Load & Parse Data\n",
    "\n",
    "`ChatData` helps you load and parse OpenAI jsonl data."
   ]
  },
  {
   "cell_type": "code",
   "execution_count": null,
   "id": "d50ae754-5ad0-4a65-a5df-681a32fb2d6b",
   "metadata": {},
   "outputs": [],
   "source": [
    "#|export\n",
    "class ChatData:\n",
    "    \"Process multi-turn chat data from openai.\"\n",
    "    def __init__(self, data):\n",
    "        self.data = data\n",
    "        self.funcs = self._extract_functions()\n",
    "    \n",
    "    def _extract_functions(self):\n",
    "        \"Extract the set of functions\"\n",
    "        self.consistent = True\n",
    "        functions = []\n",
    "        for i, row in enumerate(self.data):\n",
    "            if 'functions' in row:\n",
    "                for func in row['functions']:\n",
    "                    if func not in functions:\n",
    "                        functions.append(func)\n",
    "                        if i>0: self.consistent = False # this function is unique for this row\n",
    "        return functions\n",
    "\n",
    "    @classmethod\n",
    "    def load_jsonl(cls, file_path):\n",
    "        \"Load openai jsonl data and parse it.\"\n",
    "        data = []\n",
    "        with open(file_path, 'r') as f:\n",
    "            for line in f:\n",
    "                data.append(json.loads(line))\n",
    "        print(f'Loaded {len(data)} rows from {file_path}')\n",
    "        return cls(data)\n",
    "\n",
    "    def to_md(self, exclude_funcs=True):\n",
    "        \"Flatten the json messag format to markdown.\"\n",
    "        md_data = []\n",
    "        for row in self.data:\n",
    "            markdown = ''\n",
    "            for message in row['messages']:\n",
    "                if ('weight' not in message or message['weight'] != 0):\n",
    "                    is_func_call = 'function_call' in message\n",
    "                    markdown += f\"## Role: {'function-call' if is_func_call else message['role']}\\n\"\n",
    "                    if message['content']:\n",
    "                        markdown += f\"{message['content']}\\n\\n\"\n",
    "                    if is_func_call:\n",
    "                        markdown += f\"{message['function_call']}\\n\\n\"\n",
    "            \n",
    "            if 'functions' in row and row['functions'] and not exclude_funcs:\n",
    "                markdown += \"## Functions:\\n\"\n",
    "                for func in row['functions']:\n",
    "                    markdown += f\"- {func['name']}\\n\"\n",
    "                markdown += \"\\n\"\n",
    "            \n",
    "            md_data.append(markdown)\n",
    "        return md_data"
   ]
  },
  {
   "cell_type": "code",
   "execution_count": null,
   "id": "0c939f84-01a4-476a-bb83-386eeae39712",
   "metadata": {},
   "outputs": [
    {
     "name": "stdout",
     "output_type": "stream",
     "text": [
      "Loaded 2284 rows from file_a.jsonl\n",
      "Loaded 2284 rows from file_b.jsonl\n"
     ]
    }
   ],
   "source": [
    "_a_data = ChatData.load_jsonl('file_a.jsonl') \n",
    "_b_data = ChatData.load_jsonl('file_b.jsonl')\n",
    "assert len(_a_data.funcs) == 13\n",
    "assert len(_b_data.funcs) == 13\n",
    "assert _a_data.consistent and _b_data.consistent\n",
    "assert len(_a_data.to_md()) == 2284"
   ]
  },
  {
   "cell_type": "code",
   "execution_count": null,
   "id": "c79b2c48-4f06-4ebf-906c-31d7d9d0a3a9",
   "metadata": {},
   "outputs": [],
   "source": []
  }
 ],
 "metadata": {
  "kernelspec": {
   "display_name": "python3",
   "language": "python",
   "name": "python3"
  }
 },
 "nbformat": 4,
 "nbformat_minor": 5
}
