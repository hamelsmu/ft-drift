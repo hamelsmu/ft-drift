{
 "cells": [
  {
   "cell_type": "markdown",
   "id": "143d637a-93ee-4665-8421-1caeb4d62312",
   "metadata": {},
   "source": [
    "# model\n",
    "> use a classifier to detect differences"
   ]
  },
  {
   "cell_type": "code",
   "execution_count": null,
   "id": "57d8f94a-18ba-424f-adeb-1c78a9e10a03",
   "metadata": {},
   "outputs": [],
   "source": [
    "#|default_exp model"
   ]
  },
  {
   "cell_type": "code",
   "execution_count": null,
   "id": "3c079e47-55b6-41e4-8197-3c0e1ece5730",
   "metadata": {},
   "outputs": [],
   "source": [
    "#|export\n",
    "import pandas as pd\n",
    "import numpy as np\n",
    "from sklearn.model_selection import train_test_split\n",
    "from sklearn.feature_extraction.text import TfidfVectorizer\n",
    "from sklearn.ensemble import RandomForestClassifier\n",
    "from sklearn.pipeline import Pipeline\n",
    "from sklearn.metrics import roc_auc_score\n",
    "from ft_drift.parse import ChatData"
   ]
  },
  {
   "cell_type": "code",
   "execution_count": null,
   "id": "7b49d061-0315-432c-b325-2e18f94bc5d9",
   "metadata": {},
   "outputs": [],
   "source": [
    "#|export\n",
    "def prep_data(f1='file_a.jsonl', \n",
    "              f2='file_b.jsonl'):\n",
    "    c1,c2 = ChatData.load_jsonl(f1), ChatData.load_jsonl(f2)\n",
    "    m1, m2 = c1.to_md(), c2.to_md()\n",
    "    \n",
    "    # Create labels\n",
    "    a_labels = [0] * len(m1)\n",
    "    b_labels = [1] * len(m2)\n",
    "\n",
    "    # Combine datasets\n",
    "    data = m1 + m2\n",
    "    labels = a_labels + b_labels\n",
    "\n",
    "    # Create a DataFrame\n",
    "    df = pd.DataFrame({'text': data, 'label': labels})\n",
    "    return df"
   ]
  },
  {
   "cell_type": "code",
   "execution_count": null,
   "id": "f45f1883-1efc-4033-a57a-fd7c8203ce89",
   "metadata": {},
   "outputs": [
    {
     "name": "stdout",
     "output_type": "stream",
     "text": [
      "Loaded 2284 rows from file_a.jsonl\n",
      "Loaded 2284 rows from file_b.jsonl\n"
     ]
    }
   ],
   "source": [
    "_df = prep_data()\n",
    "assert len(_df) == 4568"
   ]
  },
  {
   "cell_type": "code",
   "execution_count": null,
   "id": "1fcaa891-32fd-414b-89f0-6614f0bc8bf6",
   "metadata": {},
   "outputs": [],
   "source": [
    "#|export\n",
    "def model(df):\n",
    "    \"Fit a model and calculate diagnostics.\"\n",
    "    X_train, X_test, y_train, y_test = train_test_split(df['text'], df['label'], test_size=0.2, random_state=42)\n",
    "    \n",
    "    # Create the pipeline\n",
    "    pat = r\"(?u)[\\w|<>\\-`]+\"\n",
    "    pipeline = Pipeline([\n",
    "        ('tfidf', TfidfVectorizer(min_df=.05, \n",
    "                                  ngram_range=(1, 3), \n",
    "                                  lowercase=False,\n",
    "                                  token_pattern=pat)\n",
    "        ),\n",
    "        ('clf', RandomForestClassifier(random_state=42))\n",
    "    ])\n",
    "    \n",
    "    # Fit the model\n",
    "    pipeline.fit(X_train, y_train)\n",
    "    y_pred_prob = pipeline.predict_proba(X_test)[:, 1]\n",
    "\n",
    "    # Compute ROC AUC score\n",
    "    pipeline.roc_auc = roc_auc_score(y_test, y_pred_prob)\n",
    "\n",
    "    # Compute feat impt\n",
    "    tfidf = pipeline.named_steps['tfidf']\n",
    "    feature_names = tfidf.get_feature_names_out()\n",
    "    importances = pipeline.named_steps['clf'].feature_importances_\n",
    "    indices = np.argsort(importances)[::-1]\n",
    "    pipeline.top_features = pd.DataFrame({'Feature': [feature_names[i] for i in indices], \n",
    "                                          'Importance': importances[indices]})\n",
    "    return pipeline"
   ]
  },
  {
   "cell_type": "code",
   "execution_count": null,
   "id": "5d94f1fb-4905-46f1-b8fe-056df517aed5",
   "metadata": {},
   "outputs": [],
   "source": [
    "clf = model(_df)"
   ]
  },
  {
   "cell_type": "code",
   "execution_count": null,
   "id": "c3631654-6172-4b2d-a1b9-da72fd34d17f",
   "metadata": {},
   "outputs": [
    {
     "data": {
      "text/plain": [
       "0.9652849641638879"
      ]
     },
     "execution_count": null,
     "metadata": {},
     "output_type": "execute_result"
    }
   ],
   "source": [
    "clf.roc_auc"
   ]
  },
  {
   "cell_type": "code",
   "execution_count": null,
   "id": "a0781658-aa12-4e4d-a24c-5e1f130236a0",
   "metadata": {},
   "outputs": [
    {
     "data": {
      "text/html": [
       "<div>\n",
       "<style scoped>\n",
       "    .dataframe tbody tr th:only-of-type {\n",
       "        vertical-align: middle;\n",
       "    }\n",
       "\n",
       "    .dataframe tbody tr th {\n",
       "        vertical-align: top;\n",
       "    }\n",
       "\n",
       "    .dataframe thead th {\n",
       "        text-align: right;\n",
       "    }\n",
       "</style>\n",
       "<table border=\"1\" class=\"dataframe\">\n",
       "  <thead>\n",
       "    <tr style=\"text-align: right;\">\n",
       "      <th></th>\n",
       "      <th>Feature</th>\n",
       "      <th>Importance</th>\n",
       "    </tr>\n",
       "  </thead>\n",
       "  <tbody>\n",
       "    <tr>\n",
       "      <th>0</th>\n",
       "      <td>&lt;|END-UI-FORMAT|&gt; Role</td>\n",
       "      <td>0.071926</td>\n",
       "    </tr>\n",
       "    <tr>\n",
       "      <th>1</th>\n",
       "      <td>&lt;|UI-FORMAT|&gt; id</td>\n",
       "      <td>0.051172</td>\n",
       "    </tr>\n",
       "    <tr>\n",
       "      <th>2</th>\n",
       "      <td>Role function &lt;|JSON-FORMAT|&gt;</td>\n",
       "      <td>0.051035</td>\n",
       "    </tr>\n",
       "    <tr>\n",
       "      <th>3</th>\n",
       "      <td>&lt;|END-UI-FORMAT|&gt; Role assistant</td>\n",
       "      <td>0.050680</td>\n",
       "    </tr>\n",
       "    <tr>\n",
       "      <th>4</th>\n",
       "      <td>&lt;|UI-FORMAT|&gt;</td>\n",
       "      <td>0.050151</td>\n",
       "    </tr>\n",
       "    <tr>\n",
       "      <th>5</th>\n",
       "      <td>&lt;|END-JSON-FORMAT|&gt; Role assistant</td>\n",
       "      <td>0.048927</td>\n",
       "    </tr>\n",
       "    <tr>\n",
       "      <th>6</th>\n",
       "      <td>&lt;|END-JSON-FORMAT|&gt; Role</td>\n",
       "      <td>0.047124</td>\n",
       "    </tr>\n",
       "    <tr>\n",
       "      <th>7</th>\n",
       "      <td>&lt;|JSON-FORMAT|&gt;</td>\n",
       "      <td>0.046406</td>\n",
       "    </tr>\n",
       "    <tr>\n",
       "      <th>8</th>\n",
       "      <td>```json id</td>\n",
       "      <td>0.042374</td>\n",
       "    </tr>\n",
       "    <tr>\n",
       "      <th>9</th>\n",
       "      <td>assistant ```json</td>\n",
       "      <td>0.039353</td>\n",
       "    </tr>\n",
       "    <tr>\n",
       "      <th>10</th>\n",
       "      <td>function &lt;|UI-FORMAT|&gt;</td>\n",
       "      <td>0.037131</td>\n",
       "    </tr>\n",
       "    <tr>\n",
       "      <th>11</th>\n",
       "      <td>function &lt;|JSON-FORMAT|&gt; id</td>\n",
       "      <td>0.028249</td>\n",
       "    </tr>\n",
       "    <tr>\n",
       "      <th>12</th>\n",
       "      <td>&lt;|JSON-FORMAT|&gt; id</td>\n",
       "      <td>0.028228</td>\n",
       "    </tr>\n",
       "    <tr>\n",
       "      <th>13</th>\n",
       "      <td>&lt;|END-JSON-FORMAT|&gt;</td>\n",
       "      <td>0.027623</td>\n",
       "    </tr>\n",
       "    <tr>\n",
       "      <th>14</th>\n",
       "      <td>&lt;|END-UI-FORMAT|&gt;</td>\n",
       "      <td>0.026620</td>\n",
       "    </tr>\n",
       "  </tbody>\n",
       "</table>\n",
       "</div>"
      ],
      "text/plain": [
       "                               Feature  Importance\n",
       "0               <|END-UI-FORMAT|> Role    0.071926\n",
       "1                     <|UI-FORMAT|> id    0.051172\n",
       "2        Role function <|JSON-FORMAT|>    0.051035\n",
       "3     <|END-UI-FORMAT|> Role assistant    0.050680\n",
       "4                        <|UI-FORMAT|>    0.050151\n",
       "5   <|END-JSON-FORMAT|> Role assistant    0.048927\n",
       "6             <|END-JSON-FORMAT|> Role    0.047124\n",
       "7                      <|JSON-FORMAT|>    0.046406\n",
       "8                           ```json id    0.042374\n",
       "9                    assistant ```json    0.039353\n",
       "10              function <|UI-FORMAT|>    0.037131\n",
       "11         function <|JSON-FORMAT|> id    0.028249\n",
       "12                  <|JSON-FORMAT|> id    0.028228\n",
       "13                 <|END-JSON-FORMAT|>    0.027623\n",
       "14                   <|END-UI-FORMAT|>    0.026620"
      ]
     },
     "execution_count": null,
     "metadata": {},
     "output_type": "execute_result"
    }
   ],
   "source": [
    "clf.top_features.head(15)"
   ]
  },
  {
   "cell_type": "code",
   "execution_count": null,
   "id": "f82330c3-47bc-4773-803a-04f42e782ac8",
   "metadata": {},
   "outputs": [],
   "source": []
  }
 ],
 "metadata": {
  "kernelspec": {
   "display_name": "python3",
   "language": "python",
   "name": "python3"
  }
 },
 "nbformat": 4,
 "nbformat_minor": 5
}
